{
  "nbformat": 4,
  "nbformat_minor": 0,
  "metadata": {
    "colab": {
      "name": "30deNoviembre2020.ipynb",
      "provenance": [],
      "authorship_tag": "ABX9TyPwyzZwop60Wn4n43eaupPg",
      "include_colab_link": true
    },
    "kernelspec": {
      "name": "python3",
      "display_name": "Python 3"
    }
  },
  "cells": [
    {
      "cell_type": "markdown",
      "metadata": {
        "id": "view-in-github",
        "colab_type": "text"
      },
      "source": [
        "<a href=\"https://colab.research.google.com/github/pj4621/edd_1358_2021/blob/master/30deNoviembre2020.ipynb\" target=\"_parent\"><img src=\"https://colab.research.google.com/assets/colab-badge.svg\" alt=\"Open In Colab\"/></a>"
      ]
    },
    {
      "cell_type": "code",
      "metadata": {
        "id": "csNw3G-c8l1P"
      },
      "source": [
        "class Stack:\n",
        "    def __init__( self ):\n",
        "        self.__data = []\n",
        "        self.__size = 0\n",
        "\n",
        "    def pop( self ):\n",
        "        return self.__data.pop()\n",
        "\n",
        "    def peek( self):\n",
        "        return self.__data[-1]\n",
        "\n",
        "    def push( self, value ):\n",
        "        self.__data.append(value)\n",
        "    \n",
        "    def to_String( self ):\n",
        "        print(\"-------------\")\n",
        "        for dato in self.__data[::-1]:\n",
        "            print(f\"{  dato   }\")\n",
        "            print(\"----------\")"
      ],
      "execution_count": null,
      "outputs": []
    },
    {
      "cell_type": "code",
      "metadata": {
        "id": "hPE1NIaS9RA0"
      },
      "source": [
        "pl= Stack()\n",
        "pl.push(34)\n",
        "pl.push(10)\n",
        "pl.push(4)\n",
        "pl.push(23)\n",
        "pl.push(33)\n",
        "valor = pl.pop()\n",
        "print(valor * 2)\n",
        "pl.to_String()\n",
        "valor = pl.peek()\n",
        "print( valor * 2)\n",
        "pl.to_String()\n",
        "\n"
      ],
      "execution_count": null,
      "outputs": []
    },
    {
      "cell_type": "code",
      "metadata": {
        "id": "1cCYQr-VB3eg"
      },
      "source": [
        "# aplicacion de la estructura Stack\n",
        "# Validacion de parentesis balanceados '(','{','['\n",
        "cadena =\"b=3*(5+(4/2))\"\n",
        "pila = Stack()\n",
        "pila.push(\"#\")# caracter de pila vacia \n",
        "for elem in cadena:\n",
        "    if elem == '(':\n",
        "        pila.push('0')\n",
        "    elif elem == ')':\n",
        "        pila.pop()\n",
        "    else:\n",
        "        pass\n",
        "if pila.peek() == '#':\n",
        "    print(\"la exprecion esta balanceada en parantesis\")\n",
        "else:\n",
        "    print(\"la expresion no esta balanceada\")"
      ],
      "execution_count": null,
      "outputs": []
    }
  ]
}