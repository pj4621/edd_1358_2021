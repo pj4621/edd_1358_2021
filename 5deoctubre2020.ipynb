{
  "nbformat": 4,
  "nbformat_minor": 0,
  "metadata": {
    "colab": {
      "name": "5deoctubre2020.ipynb",
      "provenance": [],
      "authorship_tag": "ABX9TyO5bYYrfv+nipzk2I1fSo78",
      "include_colab_link": true
    },
    "kernelspec": {
      "name": "python3",
      "display_name": "Python 3"
    }
  },
  "cells": [
    {
      "cell_type": "markdown",
      "metadata": {
        "id": "view-in-github",
        "colab_type": "text"
      },
      "source": [
        "<a href=\"https://colab.research.google.com/github/pj4621/edd_1358_2021/blob/master/5deoctubre2020.ipynb\" target=\"_parent\"><img src=\"https://colab.research.google.com/assets/colab-badge.svg\" alt=\"Open In Colab\"/></a>"
      ]
    },
    {
      "cell_type": "code",
      "metadata": {
        "id": "Tksfprs8TzE6"
      },
      "source": [
        "precio= 12.5 \n",
        "cantidad = 2\n",
        "existencia = True\n",
        "# precio de los chetos e de $12.5 y quiero 2 , hay??:True\\\n",
        "print(\"Precio de los chetos es $\",precio,\"y quier\",cantidad,\",hay\",existencia)\n",
        "# format() de laclase str\n",
        "print(\"precio de los chetosed (0) y quiero (1) , hay?:(2)\".format(precio,cantidad,existencia))\n",
        "print(\"precio de los chetosed (0) y quiero (1) , hay?:(0)\".format(precio,cantidad,existencia))\n",
        "#operador f\"\n",
        "print(f\"Precio de los chetos es{precio}y quiero {cantidad},hay:{existencia}\")\n"
      ],
      "execution_count": null,
      "outputs": []
    },
    {
      "cell_type": "markdown",
      "metadata": {
        "id": "R_10RwHxY3o4"
      },
      "source": [
        "#listas\n",
        "declarcion []\n",
        "\n",
        "mutable \n",
        "#tuplas\n",
        "declaracuion ()\n",
        "selector{}\n",
        "no mutables \n",
        "# Direccion \n",
        "conjunto de datos en pares de llave : valor\n",
        "son mutables \n",
        "equivalente a JSON\n",
        "#conjuntod \n",
        "grupo de elementos con la teoria de conjuntos operaciones de conjumtos "
      ]
    },
    {
      "cell_type": "code",
      "metadata": {
        "id": "xrB56ltBZzjN"
      },
      "source": [
        "#listas\n",
        "materias=[\"CYP\",\"DAA\",\"EDD\",\"IS\",\"POO\"]\n",
        "print(materias)\n",
        "\n",
        "print(materias[2])\n",
        "print(materias[-1])\n",
        "print(materias [4])\n",
        "print(materias[::-1])\n",
        "\n",
        "print(\"---------------\")\n",
        "print(materias)\n",
        "materias.append(\"calidad\")\n",
        "print(materias)\n",
        "materias.insert(2,\"Emprendimiento\")\n",
        "materia = materias.pop(1)\n",
        "print(materia)\n",
        "print(materias) \n",
        "#vaciar una lista \n",
        "materias.clear()\n",
        "print(materias)\n",
        "#slincing [::]\n",
        "print(\"Slicing\")\n",
        "numeros = [0,1,2,3,4,5,6,7,8,9,10]\n",
        "print(numeros)\n",
        "print(numeros[4:9:1])\n",
        "print(numeros[4::1])\n",
        "print(numeros[4:9])\n",
        "# sustituir un segmento con Slincing [0,1,2,-2,9,10]\n",
        "numeros[4:9:1] = [-2]\n",
        "print(numeros) \n"
      ],
      "execution_count": null,
      "outputs": []
    },
    {
      "cell_type": "code",
      "metadata": {
        "id": "YOZwvtGXijKo"
      },
      "source": [
        "autos = [\"mazda\",\"honda\",\"akura\",\"Ford\",\"VW\"]\n",
        "telefono=[\"iphone\",\"Huawei mate 30\",\"xiaomi s10\",\"Alcatel t1000\"]\n",
        "sistemas_operativos=[]\n",
        "lsitas_2d = [autos,telefonos,sistemas_operativos]\n",
        "print(listas_2d)"
      ],
      "execution_count": null,
      "outputs": []
    }
  ]
}