{
  "nbformat": 4,
  "nbformat_minor": 0,
  "metadata": {
    "colab": {
      "name": "30septiembre_1358.ipynb",
      "provenance": [],
      "authorship_tag": "ABX9TyNzPB8rMn/uXx/13a96C6yI",
      "include_colab_link": true
    },
    "kernelspec": {
      "name": "python3",
      "display_name": "Python 3"
    }
  },
  "cells": [
    {
      "cell_type": "markdown",
      "metadata": {
        "id": "view-in-github",
        "colab_type": "text"
      },
      "source": [
        "<a href=\"https://colab.research.google.com/github/pj4621/edd_1358_2021/blob/master/30septiembre_1358.ipynb\" target=\"_parent\"><img src=\"https://colab.research.google.com/assets/colab-badge.svg\" alt=\"Open In Colab\"/></a>"
      ]
    },
    {
      "cell_type": "markdown",
      "metadata": {
        "id": "_Ibdeb0fswun"
      },
      "source": [
        "# Fundamentos de Python 3\n",
        "### tipo de dato basico\n",
        "edad = 13 \n",
        "nombre = \"Jose\"\n",
        "estatura = 1.67\n",
        "tiene_ine = True\n",
        "#### compuestos\n",
        "\n",
        "#### Listas\n",
        "son mutables \n",
        "se accede a los elementos via indice \n",
        "los elementos pueden ser de doferente tipo\n",
        "listas_ejemplo= [\"Manzanas\", 1.57 , True [\"Rojo\", \"Azul\"]]\n",
        "\n",
        "#### Tuplas\n",
        "son inmutables \n",
        "se accede a los elemntos via indice \n",
        "los elementos pueden ser de diferente tipo\n",
        "tupla_ejemplo =( 'root', \"123.32215\",\"1234dios\")\n",
        "#### Disccionarios\n",
        "son equivalentes a los JSON de JS\n",
        "\n",
        "#### Setas\n",
        "son datos agrupados "
      ]
    },
    {
      "cell_type": "code",
      "metadata": {
        "id": "Je5R7eaKscPj",
        "outputId": "366bd8a2-e4d7-4fd0-ac30-fd3ed07fd056",
        "colab": {
          "base_uri": "https://localhost:8080/",
          "height": 241
        }
      },
      "source": [
        "listas_ejemplos = [\"Manzanas\" , 1.57 , True, [\"Rojo\", \"Azul\"]]\n",
        "print (listas_ejemplos[1])\n",
        "print (listas_ejemplos[3])\n",
        "print (listas_ejemplos[3] [1])\n",
        "listas_ejemplos [0] = \"Manzana\"\n",
        "print (listas_ejemplos)\n",
        "# agregar un elemento al final\n",
        "listas_ejemplos.append(\"iphone\")\n",
        "print (listas_ejemplos)\n",
        "# sacar el ultimo elemento \n",
        "valor = listas_ejemplos.pop()\n",
        "print(valor)\n",
        "print(listas_ejemplos)\n",
        "# documentacion del tipo de dato listas dir() y help()\n",
        "#dir(list)\n",
        "#help(list)\n",
        "print(\"------------------\")\n",
        "listas_ejemplos.insert(1,'Huawei')\n",
        "print(listas_ejemplos)\n",
        "conteo = listas_ejemplos.count(True)\n",
        "print(conteo)\n",
        "\n",
        "colores = ['rosa','fiusca', 'negro']\n",
        "listas_ejemplos.append(colores)\n",
        "print(listas_ejemplos)\n",
        "# con extends fusionan dos listas \n",
        "listas_ejemplos.extend(colores)\n",
        "print(listas_ejemplos)"
      ],
      "execution_count": 12,
      "outputs": [
        {
          "output_type": "stream",
          "text": [
            "1.57\n",
            "['Rojo', 'Azul']\n",
            "Azul\n",
            "['Manzana', 1.57, True, ['Rojo', 'Azul']]\n",
            "['Manzana', 1.57, True, ['Rojo', 'Azul'], 'iphone']\n",
            "iphone\n",
            "['Manzana', 1.57, True, ['Rojo', 'Azul']]\n",
            "------------------\n",
            "['Manzana', 'Huawei', 1.57, True, ['Rojo', 'Azul']]\n",
            "1\n",
            "['Manzana', 'Huawei', 1.57, True, ['Rojo', 'Azul'], ['rosa', 'fiusca', 'negro']]\n",
            "['Manzana', 'Huawei', 1.57, True, ['Rojo', 'Azul'], ['rosa', 'fiusca', 'negro'], 'rosa', 'fiusca', 'negro']\n"
          ],
          "name": "stdout"
        }
      ]
    }
  ]
}