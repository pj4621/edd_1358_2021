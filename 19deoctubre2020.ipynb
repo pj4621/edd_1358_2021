{
  "nbformat": 4,
  "nbformat_minor": 0,
  "metadata": {
    "colab": {
      "name": "19deoctubre2020.ipynb",
      "provenance": [],
      "collapsed_sections": [],
      "authorship_tag": "ABX9TyNkq1koX8qLFQHwq//xBC2j",
      "include_colab_link": true
    },
    "kernelspec": {
      "name": "python3",
      "display_name": "Python 3"
    }
  },
  "cells": [
    {
      "cell_type": "markdown",
      "metadata": {
        "id": "view-in-github",
        "colab_type": "text"
      },
      "source": [
        "<a href=\"https://colab.research.google.com/github/pj4621/edd_1358_2021/blob/master/19deoctubre2020.ipynb\" target=\"_parent\"><img src=\"https://colab.research.google.com/assets/colab-badge.svg\" alt=\"Open In Colab\"/></a>"
      ]
    },
    {
      "cell_type": "code",
      "metadata": {
        "id": "5kPLAwm9dNIF"
      },
      "source": [
        "# read()\n",
        "archivo = open ('frutas.txt','rt')\n",
        "\n",
        "data = archivo.read()\n",
        "print(data.upper())\n",
        "\n",
        "archivo.close()"
      ],
      "execution_count": null,
      "outputs": []
    },
    {
      "cell_type": "code",
      "metadata": {
        "id": "Bkxr24XSeEhY"
      },
      "source": [
        "# readline()\n",
        "archivo = open ('frutas.txt','rt')\n",
        "date = archivo.readline\n",
        "while data !=\"\":\n",
        "  print(data)\n",
        "\n",
        "\n",
        "archivo.close()"
      ],
      "execution_count": null,
      "outputs": []
    },
    {
      "cell_type": "code",
      "metadata": {
        "id": "H9CwStbMgFZv"
      },
      "source": [
        "# readlines()\n",
        "archivo = open('frutas.txt','rt')\n",
        "\n",
        "data = archivo.readlines()\n",
        "print(data)\n",
        "\n",
        "frutas = []\n",
        "\n",
        "for linea in data:\n",
        "  frutas.append(linea.strip())\n",
        "\n",
        "frutas_final=[]\n",
        "for elem in frutas:\n",
        "  for fruta in elem.split(','):\n",
        "    frutas_final.append(frutas.strip())\n",
        "\n",
        "print(frutas_final)\n",
        "archivo.close()"
      ],
      "execution_count": null,
      "outputs": []
    },
    {
      "cell_type": "markdown",
      "metadata": {
        "id": "YVtngDsrlC_h"
      },
      "source": [
        "# POO con python\n",
        "- clases\n",
        "-objetos\n",
        "-atributos\n",
        "-metodos\n",
        "-metodo constructor\n",
        "-encapsulamiento(publico y privado)\n",
        "-herencia\n",
        "Declarar clases en python se usa la palabra reservada class"
      ]
    },
    {
      "cell_type": "code",
      "metadata": {
        "id": "fewIyzpPlhbf"
      },
      "source": [
        "class Persona:\n",
        "  def __init__( self , edd , est):\n",
        "    self.__edad = edd \n",
        "    self.__estatura = est\n",
        "\n",
        "    #print(\"Hola desde el constructor\")\n",
        "  \n",
        "  \n",
        "  def to_string( self ):\n",
        "    print(f\"Edad={self.__edad},est={self.__estatura}\")\n",
        "\n",
        "per1 = Persona(23,1.78)\n",
        "per1.to_string()\n",
        "per1.estarura = 10.4\n",
        "per1.to_string()"
      ],
      "execution_count": null,
      "outputs": []
    }
  ]
}