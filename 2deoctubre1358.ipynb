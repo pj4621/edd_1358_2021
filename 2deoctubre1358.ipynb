{
  "nbformat": 4,
  "nbformat_minor": 0,
  "metadata": {
    "colab": {
      "name": "2deoctubre1358.ipynb",
      "provenance": [],
      "collapsed_sections": [],
      "authorship_tag": "ABX9TyO5VLHLcG9m2SIsnbW05bQ8",
      "include_colab_link": true
    },
    "kernelspec": {
      "name": "python3",
      "display_name": "Python 3"
    }
  },
  "cells": [
    {
      "cell_type": "markdown",
      "metadata": {
        "id": "view-in-github",
        "colab_type": "text"
      },
      "source": [
        "<a href=\"https://colab.research.google.com/github/pj4621/edd_1358_2021/blob/master/2deoctubre1358.ipynb\" target=\"_parent\"><img src=\"https://colab.research.google.com/assets/colab-badge.svg\" alt=\"Open In Colab\"/></a>"
      ]
    },
    {
      "cell_type": "markdown",
      "metadata": {
        "id": "OyvJMqA14iiF"
      },
      "source": [
        ""
      ]
    },
    {
      "cell_type": "code",
      "metadata": {
        "id": "pv38meMl4bOk",
        "outputId": "b61b9584-527a-4bbc-af13-b411881efd97",
        "colab": {
          "base_uri": "https://localhost:8080/",
          "height": 153
        }
      },
      "source": [
        "#String puede emplear \"\", '' \n",
        "universidad = \"            Universidad Nacional autonoma de Mexico         \"\n",
        "print (universidad)\n",
        "# cuando el string es una sola palabra se usa ''-> buena practica\n",
        "carrea = 'ico'\n",
        "area = \"software\"\n",
        "divicion = 'divicion de las ciencias fisico matematico'\n",
        "print(divicion)\n",
        "frace= \"\"\"si\n",
        "funciona \n",
        "no \n",
        "lo \n",
        "arregles!!!\n",
        "\"\"\"\n",
        "print(frace)"
      ],
      "execution_count": 32,
      "outputs": [
        {
          "output_type": "stream",
          "text": [
            "            Universidad Nacional autonoma de Mexico         \n",
            "divicion de las ciencias fisico matematico\n",
            "si\n",
            "funciona \n",
            "no \n",
            "lo \n",
            "arregles!!!\n",
            "\n"
          ],
          "name": "stdout"
        }
      ]
    },
    {
      "cell_type": "code",
      "metadata": {
        "id": "mhUVVv-f5neX",
        "outputId": "af99ba43-91a4-4ba5-d866-ae9445bdd105",
        "colab": {
          "base_uri": "https://localhost:8080/",
          "height": 238
        }
      },
      "source": [
        "print(universidad.upper())\n",
        "print(universidad)\n",
        "print(universidad.title())\n",
        "#eliminar espacios a la deraecha e izquierda\n",
        "universidad = universidad.strip()\n",
        "print(universidad)\n",
        "listas = universidad.split(\" \")\n",
        "print(listas)\n",
        "nueva = \"\"\n",
        "for l in listas:\n",
        "  if len(l) > 0:\n",
        "    nueva += l + \" \"\n",
        "print(nueva)    \n",
        "numeros = \"1,2,34,56,100\"\n",
        "separados = numeros.split(\",\")\n",
        "print(separados)\n",
        "numeros_int= []\n",
        "for num in separados:\n",
        "  numeros_int.append( int(num))\n",
        "print(numeros_int)  \n",
        "print(numeros_int)\n",
        "print(nueva)\n",
        "print(nueva.index(\"na\"))\n",
        "# remplazar una cadena vieja por una nueva\n",
        "print(nueva.replace(' ','-'))\n",
        "print(nueva)\n"
      ],
      "execution_count": 33,
      "outputs": [
        {
          "output_type": "stream",
          "text": [
            "            UNIVERSIDAD NACIONAL AUTONOMA DE MEXICO         \n",
            "            Universidad Nacional autonoma de Mexico         \n",
            "            Universidad Nacional Autonoma De Mexico         \n",
            "Universidad Nacional autonoma de Mexico\n",
            "['Universidad', 'Nacional', 'autonoma', 'de', 'Mexico']\n",
            "Universidad Nacional autonoma de Mexico \n",
            "['1', '2', '34', '56', '100']\n",
            "[1, 2, 34, 56, 100]\n",
            "[1, 2, 34, 56, 100]\n",
            "Universidad Nacional autonoma de Mexico \n",
            "17\n",
            "Universidad-Nacional-autonoma-de-Mexico-\n",
            "Universidad Nacional autonoma de Mexico \n"
          ],
          "name": "stdout"
        }
      ]
    },
    {
      "cell_type": "markdown",
      "metadata": {
        "id": "wD_vUQM3_Up0"
      },
      "source": [
        "# slicing\n",
        "sintaxis\n",
        "[inicio : stop : incremento]"
      ]
    },
    {
      "cell_type": "code",
      "metadata": {
        "id": "7kwur1Pg_vM3",
        "outputId": "8cea8d11-937d-4a52-8efb-d48dbdb68382",
        "colab": {
          "base_uri": "https://localhost:8080/",
          "height": 153
        }
      },
      "source": [
        "# selector de elementos dentro de un string\n",
        "# para un solo caracter\n",
        "print(nueva[0])\n",
        "nueva = nueva.strip() \n",
        "print (nueva[len(nueva)-1])\n",
        "print(nueva[-2])\n",
        "# slicing para una palabra completa \n",
        "print(nueva)\n",
        "print(nueva[ 12 : 20 : 1 ])\n",
        "print( nueva[ -6 : : 1 ])\n",
        "#para poner una palabra alrebez\n",
        "print(nueva[-1 : -7 :-1])\n",
        "# valores por defecto[ 0 : longitud  dela lista : 1]\n",
        "print(nueva[:4:])\n",
        "\n",
        "\n"
      ],
      "execution_count": 42,
      "outputs": [
        {
          "output_type": "stream",
          "text": [
            "U\n",
            "o\n",
            "c\n",
            "Universidad Nacional autonoma de Mexico\n",
            "Nacional\n",
            "Mexico\n",
            "ocixeM\n",
            "Univ\n"
          ],
          "name": "stdout"
        }
      ]
    },
    {
      "cell_type": "markdown",
      "metadata": {
        "id": "htXw7EZmD8bS"
      },
      "source": [
        "# bool\n",
        "Acepta solo dos valores \n",
        "True bool(1) cualquier numero que no sea 0\n",
        "False(0)"
      ]
    },
    {
      "cell_type": "code",
      "metadata": {
        "id": "7f6YSBxTD77B"
      },
      "source": [
        "print(bool(0))\n",
        "print(bool(423423))\n",
        "flag = 0\n",
        "print(bool(flag))\n",
        "print(True)"
      ],
      "execution_count": null,
      "outputs": []
    },
    {
      "cell_type": "markdown",
      "metadata": {
        "id": "1EqUGhHRE4tt"
      },
      "source": [
        "#comentarios\n",
        "para un comentario de una linea se usa #\n",
        "para un comentario de multiple linea, equivalente a /**/ de java y leng c se utiliza \n",
        "\"\"\""
      ]
    },
    {
      "cell_type": "code",
      "metadata": {
        "id": "U8eTTYx0FQFa"
      },
      "source": [
        "# esto es un comentario de line asimple \n",
        "\"\"\"\n",
        "Este \n",
        "es un \n",
        "comentario de \n",
        "multiple \n",
        "linea \n",
        "\"\"\""
      ],
      "execution_count": null,
      "outputs": []
    },
    {
      "cell_type": "markdown",
      "metadata": {
        "id": "ldxFjYA0FkTp"
      },
      "source": [
        "# funcion print \n",
        "hay cuatro formas de usar print\n",
        "1. con comas (,)\n",
        "1.con signos + (+)\n",
        "1. con la funcion formato () de la clase string \n",
        "1. con operador f\"\""
      ]
    },
    {
      "cell_type": "code",
      "metadata": {
        "id": "x4MYpcN4GHe0"
      },
      "source": [
        "#con comas \n",
        "cantidad = 2 \n",
        "precio_chetos= 8\n",
        "precio_fanta=12\n",
        "\n",
        "print(cantidad,precio_chetos,precio_fanta)\n",
        "\n",
        "# con signo mas solo opera con strings\n",
        "print(\"hola\" + \"Mundo\")\n",
        "print(cantidad+precio_chetos+precio_fanta)\n",
        "print(str(cantidad)+str(precio_chetos)+str(precio_fanta))\n"
      ],
      "execution_count": null,
      "outputs": []
    }
  ]
}