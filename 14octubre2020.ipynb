{
  "nbformat": 4,
  "nbformat_minor": 0,
  "metadata": {
    "colab": {
      "name": "14octubre2020.ipynb",
      "provenance": [],
      "collapsed_sections": [],
      "authorship_tag": "ABX9TyMHFH+sBeALO87Ew7FllLZ4",
      "include_colab_link": true
    },
    "kernelspec": {
      "name": "python3",
      "display_name": "Python 3"
    }
  },
  "cells": [
    {
      "cell_type": "markdown",
      "metadata": {
        "id": "view-in-github",
        "colab_type": "text"
      },
      "source": [
        "<a href=\"https://colab.research.google.com/github/pj4621/edd_1358_2021/blob/master/14octubre2020.ipynb\" target=\"_parent\"><img src=\"https://colab.research.google.com/assets/colab-badge.svg\" alt=\"Open In Colab\"/></a>"
      ]
    },
    {
      "cell_type": "code",
      "metadata": {
        "id": "6Z4FEgVspz6J"
      },
      "source": [
        "def calcular (a,b,c):\n",
        "  x = a + (b/c)\n",
        "  return x\n",
        "print(calcular(5,9,3))\n",
        "print(calcular(a=5,c=3,b=9))\n",
        "#para tomar valores por defecto\n",
        "def calcula_v2(a=10,b=20,c=5):\n",
        "  x = a +(b/c)\n",
        "  return x\n",
        "print(calcular_v2())\n",
        "\n"
      ],
      "execution_count": null,
      "outputs": []
    },
    {
      "cell_type": "markdown",
      "metadata": {
        "id": "3DaArsi0ruHn"
      },
      "source": [
        "#argumentos a funciones por tupla *\n",
        "se envian los argumentos en un conjunto de elementos dentro de un tupla\n"
      ]
    },
    {
      "cell_type": "code",
      "metadata": {
        "id": "8hIe0KW5r8Un"
      },
      "source": [
        "def calculo (*elem ):\n",
        "  x = elem[0] + (elem[1])/(elem [2])\n",
        "  return x\n",
        "print(calculo(5,9,3) )\n"
      ],
      "execution_count": null,
      "outputs": []
    },
    {
      "cell_type": "markdown",
      "metadata": {
        "id": "z6Ta07FUsvRQ"
      },
      "source": [
        "#argumentos como diccionario **\n",
        "\n"
      ]
    },
    {
      "cell_type": "code",
      "metadata": {
        "id": "EdmXpjV5s0Um"
      },
      "source": [
        "def calculo(**elem):\n",
        "  print (elem)\n",
        "  x = elem ['a'] + (elem['b']) / (elem['c'])\n",
        "  return x\n",
        "\n",
        "print(calculo(a=5,b=9,c=3))"
      ],
      "execution_count": null,
      "outputs": []
    },
    {
      "cell_type": "markdown",
      "metadata": {
        "id": "FyJRmvgr2sGu"
      },
      "source": [
        "# archivos \n",
        "- abrirlos\n",
        " - un str con la ruta del archivo\n",
        " dos carateres :1->modulo de apertura (r,W) y el formato (texto binario)\n",
        "apertura \n",
        "leerlos y modificarlos"
      ]
    },
    {
      "cell_type": "code",
      "metadata": {
        "id": "8pFrLSBJ3L-S"
      },
      "source": [
        "archivo = open ('ejemplo.txt','wt')\n",
        "archivo.write(\"Hola mundo de archivos\")\n",
        "\n",
        "archivo.close()\n"
      ],
      "execution_count": null,
      "outputs": []
    }
  ]
}