{
  "nbformat": 4,
  "nbformat_minor": 0,
  "metadata": {
    "colab": {
      "name": "28deSeptiembre_1358.ipynb",
      "provenance": [],
      "collapsed_sections": [],
      "authorship_tag": "ABX9TyMtT+JWs0suAKXzdtsvo7ZV",
      "include_colab_link": true
    },
    "kernelspec": {
      "name": "python3",
      "display_name": "Python 3"
    }
  },
  "cells": [
    {
      "cell_type": "markdown",
      "metadata": {
        "id": "view-in-github",
        "colab_type": "text"
      },
      "source": [
        "<a href=\"https://colab.research.google.com/github/pj4621/edd_1358_2021/blob/master/28deSeptiembre_1358.ipynb\" target=\"_parent\"><img src=\"https://colab.research.google.com/assets/colab-badge.svg\" alt=\"Open In Colab\"/></a>"
      ]
    },
    {
      "cell_type": "code",
      "metadata": {
        "id": "ieiq6mSFXJTC"
      },
      "source": [
        "print(\"Hola colab reserch\")\n",
        "nombre = \"EdD\"\n"
      ],
      "execution_count": null,
      "outputs": []
    },
    {
      "cell_type": "code",
      "metadata": {
        "id": "kSUKQYMLX3vu"
      },
      "source": [
        "print(nombre)"
      ],
      "execution_count": null,
      "outputs": []
    },
    {
      "cell_type": "markdown",
      "metadata": {
        "id": "xIeC0gjzZtcC"
      },
      "source": [
        "# Hola esto es un encabezado\n",
        "## Encabezado nivel 2\n",
        "### Sintaxis Markdown\n",
        "* elemento 1 \n",
        "* elemento 2\n",
        "* elemento 3\n",
        "\n",
        "1. fresa\n",
        "1. manzana\n",
        "1. pera\n",
        "1. edad\n",
        "\n",
        "esto es un trxto largo y quiero poner **negritas** y tambien quiero _italica_.\n",
        "[ir a google](https://www.google.com) "
      ]
    },
    {
      "cell_type": "code",
      "metadata": {
        "id": "sHq2MgeQb-FS"
      },
      "source": [
        "class Silla(object):\n",
        "  def __init__(self):\n",
        "    self.material=\"\"\n",
        "    self.color=\"\"\n",
        "  def to_string(self):\n",
        "    print(\"-------------\")\n",
        "    print(f\"Material:{self.material}\")\n",
        "    print(f\"{self.color}---------\")"
      ],
      "execution_count": null,
      "outputs": []
    },
    {
      "cell_type": "code",
      "metadata": {
        "id": "IYjcKB9Mdtwd"
      },
      "source": [
        "obj = Silla()\n",
        "obj.material=\"Madera\"\n",
        "obj.color=\"Rojo\"\n",
        "obj.to_string()"
      ],
      "execution_count": null,
      "outputs": []
    }
  ]
}