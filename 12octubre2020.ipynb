{
  "nbformat": 4,
  "nbformat_minor": 0,
  "metadata": {
    "colab": {
      "name": "12octubre2020.ipynb",
      "provenance": [],
      "authorship_tag": "ABX9TyMK7pDKBbvqWW5/1jER1xLk",
      "include_colab_link": true
    },
    "kernelspec": {
      "name": "python3",
      "display_name": "Python 3"
    }
  },
  "cells": [
    {
      "cell_type": "markdown",
      "metadata": {
        "id": "view-in-github",
        "colab_type": "text"
      },
      "source": [
        "<a href=\"https://colab.research.google.com/github/pj4621/edd_1358_2021/blob/master/12octubre2020.ipynb\" target=\"_parent\"><img src=\"https://colab.research.google.com/assets/colab-badge.svg\" alt=\"Open In Colab\"/></a>"
      ]
    },
    {
      "cell_type": "code",
      "metadata": {
        "id": "SVSaZ5KtXCAP"
      },
      "source": [
        "#diccionario continuacion \n",
        "cliente_banco = {\n",
        "    \"id\":1,\n",
        "    \"nombres\":[\"Juan\",\"Antonio\"],\n",
        "    \"paterno\" :\"Garcia\",\n",
        "    \"materno\": \"Perez\",\n",
        "    \"telefonos\":{\n",
        "        \"casa\":556778899,\n",
        "        \"celular\": 5544332211,\n",
        "        \"trabajo\":5566223311,\n",
        "              },\n",
        "    \n",
        "    \"activo\" : True,\n",
        "    \"balance\" : 234567.89,\n",
        "    \"tarjetas\":({\"tipo\":\"debito\",\"saldo\":12000},\n",
        "                {\"tipo\":\"credito\",\"saldo\":3000.0})\n",
        "}\n",
        "print(cliente_banco)\n",
        "#cliente_banco[\"balance\"]=cliente_banco[\"balance\"]=-1000.89\n",
        "cliente_banco[\"balance\"]-=1000.89\n",
        "print(cliente_banco)\n",
        "cliente_banco[\"tarjetas\"] = ({\"tipo\":\"debito\",\"saldo\":12000},\n",
        "                {\"tipo\":\"credito\",\"saldo\":3000.0},\n",
        "                {\"tipo\":\"credito\",\"nivel\":\"oro\",\"saldo\":50000})\n",
        "print(cliente_banco)\n",
        "cliente_banco[\"direccion\"]={\"calle\":\"rancho seco\",\"num\":23}\n",
        "print(cliente_banco)\n",
        "cliente_banco.pop(\"tarjetas\")\n",
        "print(cliente_banco)\n"
      ],
      "execution_count": null,
      "outputs": []
    },
    {
      "cell_type": "code",
      "metadata": {
        "id": "WpkgvbEucbyL"
      },
      "source": [
        "\n",
        "llaves = cliente_banco.keys()\n",
        "print(llaves)\n",
        "print(type(llaves))\n",
        "for x in llaves:\n",
        "  print(x)\n",
        "valores = cliente_banco.values()\n",
        "for v in valores:\n",
        "  print(v)\n",
        "pares = cliente_banco.items()\n",
        "print(pares)\n",
        "for elem in pares:\n",
        "  print(f\"{elem[0]} = {elem[1]}\")\n"
      ],
      "execution_count": null,
      "outputs": []
    },
    {
      "cell_type": "code",
      "metadata": {
        "id": "myZ-ON7ug-sC"
      },
      "source": [
        "fruta = {\"nombre\":\"manzana\",\"color\":\"rojo\",\"estado\":\"chihuahua\"}\n",
        "otras_caracteristicas = {\"vitaminas\":\"D\"}\n",
        "fruta.update(otras_caracteristicas)\n",
        "print(fruta)\n"
      ],
      "execution_count": null,
      "outputs": []
    },
    {
      "cell_type": "markdown",
      "metadata": {
        "id": "zRF9PY8viShQ"
      },
      "source": [
        "# funciones \n",
        "- recibe de 0 a n argumentos de entrada y regresa solo u valor,aunque ese valor sea nulu en paython none.\n",
        "- tiene un nombre unico en el contexto\n",
        "- se puede hacer solo dos cosas con funciones:\n",
        "~definirla \n",
        "~llamarla "
      ]
    },
    {
      "cell_type": "code",
      "metadata": {
        "id": "3kHL1_TijEqS"
      },
      "source": [
        "def suma (a,b):\n",
        "  return a+b\n",
        "def saludar():\n",
        "  print(\"Hola, como estas?\")\n",
        "  return None\n",
        "x = 10\n",
        "y = 20\n",
        "c = suma(x,y)\n",
        "print(c)\n",
        "saludar()"
      ],
      "execution_count": null,
      "outputs": []
    },
    {
      "cell_type": "markdown",
      "metadata": {
        "id": "onz_LOhRktOo"
      },
      "source": [
        "#None y las funciones\n",
        "aprovechar el uso de none en paso de parametros\n"
      ]
    },
    {
      "cell_type": "code",
      "metadata": {
        "id": "1W518MWik9CT"
      },
      "source": [
        "def calcular(base,veces):\n",
        "  if base!=None:\n",
        "    resultado = base * veces\n",
        "  else:\n",
        "    resultado = \"desconocido\"\n",
        "  return resultado\n",
        "\n",
        "print(calcular(4,3))\n",
        "print(calcular(None,3))"
      ],
      "execution_count": null,
      "outputs": []
    }
  ]
}