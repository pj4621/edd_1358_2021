{
  "nbformat": 4,
  "nbformat_minor": 0,
  "metadata": {
    "colab": {
      "name": "9denoviembre2020.ipynb",
      "provenance": [],
      "collapsed_sections": [],
      "authorship_tag": "ABX9TyPkL2o7Cn1yzLlCM1uMBBfk",
      "include_colab_link": true
    },
    "kernelspec": {
      "name": "python3",
      "display_name": "Python 3"
    }
  },
  "cells": [
    {
      "cell_type": "markdown",
      "metadata": {
        "id": "view-in-github",
        "colab_type": "text"
      },
      "source": [
        "<a href=\"https://colab.research.google.com/github/pj4621/edd_1358_2021/blob/master/9denoviembre2020.ipynb\" target=\"_parent\"><img src=\"https://colab.research.google.com/assets/colab-badge.svg\" alt=\"Open In Colab\"/></a>"
      ]
    },
    {
      "cell_type": "code",
      "metadata": {
        "id": "CKk29L0x0_Kd"
      },
      "source": [
        "class Nodo:\n",
        "  def __init__( self , dato):\n",
        "    self.__dato = dato \n",
        "    self.__siguiente = None \n",
        "\n",
        "  def get_dato( self ):\n",
        "    return self.__dato\n",
        "\n",
        "  def set_dato( self , d ):\n",
        "    self.__dato = d\n",
        "\n",
        "  def get_siguiente( self ):\n",
        "    return self.__siguiente\n",
        "\n",
        "  def set_siguiente ( self , d ):\n",
        "    self.__siguiente = d\n",
        "\n",
        "  #def to_String ( self ):\n",
        "    #return  \"|\" + str(self.__dato)+ \"|\" + str(self.__siguiente)+\"|-->\" \n",
        "  def show( self ):\n",
        "    curr_node = self # Head\n",
        "    print(\" Inicio de la estructura ligada:\")\n",
        "    print(\"|\" + str(curr_node.get_dato()) + \"| -->\" , end =\"\" )\n",
        "    while ( curr_node.get_siguiente() != None ):\n",
        "      curr_node = curr_node.get_siguiente()\n",
        "    print(\"|\" + str(curr_node.get_dato() ) + \"| -->\" , end =\"\" )\n",
        "    print(\"\\nFin\")\n",
        "        \n",
        "\n",
        "# Ejemplo 1\n",
        "a = Nodo( 10 )\n",
        "\n",
        "\n",
        "# ejemplo 2\n",
        "\n",
        "a.set_siguiente( Nodo(20) )\n",
        "    \n",
        "\n",
        "# ejemplo 1 \n",
        "a = Nodo (10)\n",
        "print(a.to_String())\n",
        "\n",
        "#ejemplo 2\n",
        "a. set_siguiente(20)\n",
        "print(a.to_String())\n",
        "  \n",
        "# ejemplo 3\n",
        "\n",
        "\n",
        "    "
      ],
      "execution_count": null,
      "outputs": []
    }
  ]
}