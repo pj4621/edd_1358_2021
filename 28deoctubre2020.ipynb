{
  "nbformat": 4,
  "nbformat_minor": 0,
  "metadata": {
    "colab": {
      "name": "28deoctubre2020.ipynb",
      "provenance": [],
      "collapsed_sections": [],
      "authorship_tag": "ABX9TyMwBTTNCuiDAfILWrZBw+sP",
      "include_colab_link": true
    },
    "kernelspec": {
      "name": "python3",
      "display_name": "Python 3"
    }
  },
  "cells": [
    {
      "cell_type": "markdown",
      "metadata": {
        "id": "view-in-github",
        "colab_type": "text"
      },
      "source": [
        "<a href=\"https://colab.research.google.com/github/pj4621/edd_1358_2021/blob/master/28deoctubre2020.ipynb\" target=\"_parent\"><img src=\"https://colab.research.google.com/assets/colab-badge.svg\" alt=\"Open In Colab\"/></a>"
      ]
    },
    {
      "cell_type": "code",
      "metadata": {
        "id": "nnlSGvnUGnm-"
      },
      "source": [
        "basura = [\"manzana\" , \"pera\"]\n",
        "datos = [ x.upper() for x in basura ]\n",
        "print(datos)"
      ],
      "execution_count": null,
      "outputs": []
    },
    {
      "cell_type": "markdown",
      "metadata": {
        "id": "HONa315NIVuo"
      },
      "source": [
        "[[0,0,0],\n",
        "[0,0,0],\n",
        "[0,0,0]]"
      ]
    },
    {
      "cell_type": "code",
      "metadata": {
        "id": "yFSFv-w6IRgq"
      },
      "source": [
        "# lista de 2 dimenciones \n",
        "#generador anidado\n",
        "ren = 4\n",
        "col = 6\n",
        "dos_d = [ [0 for x in range(col)] for x in range(ren) ]\n",
        "print(dos_d)"
      ],
      "execution_count": null,
      "outputs": []
    }
  ]
}