{
  "nbformat": 4,
  "nbformat_minor": 0,
  "metadata": {
    "colab": {
      "name": "21deoctubre2020.ipynb",
      "provenance": [],
      "collapsed_sections": [],
      "authorship_tag": "ABX9TyOEqTAwUEPVgJWtDVRmTgCJ",
      "include_colab_link": true
    },
    "kernelspec": {
      "name": "python3",
      "display_name": "Python 3"
    }
  },
  "cells": [
    {
      "cell_type": "markdown",
      "metadata": {
        "id": "view-in-github",
        "colab_type": "text"
      },
      "source": [
        "<a href=\"https://colab.research.google.com/github/pj4621/edd_1358_2021/blob/master/21deoctubre2020.ipynb\" target=\"_parent\"><img src=\"https://colab.research.google.com/assets/colab-badge.svg\" alt=\"Open In Colab\"/></a>"
      ]
    },
    {
      "cell_type": "code",
      "metadata": {
        "id": "kN1JrR8jtCRu"
      },
      "source": [
        "# Encapsulamineto tradicional way\n",
        "class SmartPhone:\n",
        "  def __init__( self , m ):\n",
        "    self.__marca = m\n",
        "  \n",
        "  def set_marca( self , m ):\n",
        "    self.__marca = m \n",
        "  \n",
        "  def get_marca( self ):\n",
        "    return self.__marca\n",
        "  \n",
        "  def to_string( self ):\n",
        "    return \"La marca del telefono es:\" + self.__marca\n",
        "\n",
        "sp1 = SmartPhone( \"Huawei\" )\n",
        "print(sp1.to_string())\n",
        "sp1.__marca = \"iPhone X\"\n",
        "print(sp1.to_string())\n",
        "sp1.set_marca(\"Samsung\")\n",
        "print(sp1.to_string())\n",
        "print( sp1.get_marca())\n",
        "\n",
        "\n",
        "\n",
        "\n",
        "\n",
        "\n"
      ],
      "execution_count": null,
      "outputs": []
    },
    {
      "cell_type": "code",
      "metadata": {
        "id": "FkOFCzcuxaym"
      },
      "source": [
        "# estilo Python 3\n",
        "class SmartPhone:\n",
        "  def __init__( self , m ):\n",
        "    self.marca = m # Llamando al metodo get\n",
        "  \n",
        "  @property\n",
        "  def marca ( self ): # define metodo get y declara self.__marca\n",
        "    print(\"En el metodo get de marca\")\n",
        "    return self.__marca\n",
        "  \n",
        "  @marca.setter\n",
        "  def marca( self , m ):\n",
        "    if m in [\"Lenovo\",\"Sony\",\"Motorola\",\"iPhone\",\"Huawey\",\"Xiaomi\"]:\n",
        "      self.__marca = m\n",
        "    else:\n",
        "      print(\"Asignacion no valida\")\n",
        "  \n",
        "  def to_string( self ):\n",
        "    return \"Marca = \" + self.marca\n",
        "\n",
        "sp2 = SmartPhone(\"Xiaomi\")\n",
        "print(sp2.to_string())\n",
        "\n",
        "sp2.__marca = \" iPhone SE\" # no se puede cambiar porque esta declarado como privado\n",
        "print(sp2.to_string())\n",
        "\n",
        "sp2.marca = \"Motorola\"# invocacion del metodo set\n",
        "print(sp2.to_string())\n",
        "\n",
        "print(sp2.marca)# invocacion del metodo get\n",
        "\n",
        "sp2.marca = \" 228910 90498\"\n",
        "print(sp2.to_string())\n",
        "\n",
        "\n"
      ],
      "execution_count": null,
      "outputs": []
    },
    {
      "cell_type": "code",
      "metadata": {
        "id": "eMWRJlKb5IW2"
      },
      "source": [
        "class TelefonoTrabajo(SmartPhone):\n",
        "  def __init__ ( self , m ):\n",
        "    self.marca = m \n",
        "\n",
        "sp3 = TelefonoTrabajo( \"Motorola\")\n",
        "print(dir(sp3))\n",
        "print(sp3.to_string())"
      ],
      "execution_count": null,
      "outputs": []
    }
  ]
}