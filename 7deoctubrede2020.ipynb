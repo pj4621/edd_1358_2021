{
  "nbformat": 4,
  "nbformat_minor": 0,
  "metadata": {
    "colab": {
      "name": "7deoctubrede2020.ipynb",
      "provenance": [],
      "authorship_tag": "ABX9TyNaih8/CjztEA27hk7JW6bS",
      "include_colab_link": true
    },
    "kernelspec": {
      "name": "python3",
      "display_name": "Python 3"
    }
  },
  "cells": [
    {
      "cell_type": "markdown",
      "metadata": {
        "id": "view-in-github",
        "colab_type": "text"
      },
      "source": [
        "<a href=\"https://colab.research.google.com/github/pj4621/edd_1358_2021/blob/master/7deoctubrede2020.ipynb\" target=\"_parent\"><img src=\"https://colab.research.google.com/assets/colab-badge.svg\" alt=\"Open In Colab\"/></a>"
      ]
    },
    {
      "cell_type": "code",
      "metadata": {
        "id": "IweS2FD0m3SZ"
      },
      "source": [
        "autos = [\"Mazda\",\"honda\",\"Akura\",\"Ford\",\"VW\"]\n",
        "telefonos = [\"iPhone\",\"Huawei Mate 30\", \"Xiaomi S10\",\"Alcatel t1000\"]\n",
        "sistemas_operativos = [ \"Windows\", \"Linux\" , \"Android\" , \"iOS\" ,\"MacOs\" ]\n",
        "procesadores = [[\"Intel\",3.1,True],[\"AMD\",2.7,False],[\"Motorola\",1.1,False]]\n",
        "lista_2d = [autos,telefonos,sistemas_operativos]\n",
        "print(lista_2d)\n",
        "print(lista_2d[1][1])\n",
        "#concatenar cadenas\n",
        "colores=[\"rojo\",\"verde\",\"azul\",\"negro\"]\n",
        "flores = [\"margaritas\",\"rosa\"]\n",
        "nueva = colores + flores\n",
        "print(nueva)\n",
        "print(colores)\n",
        "print(flores)\n",
        "#con extends\n",
        "colores.extend(flores)\n",
        "print(colores)\n",
        "\n",
        "#unpacking de listas\n",
        "print(\"unpacking\")\n",
        "datos_personales= [\"Jose\",\"Perez\",\"Juarez\",22,1.67,True]\n",
        "\n",
        "#print(f\"Nombre:{nombre}\\n Edad:{edad}\")\n",
        "\n",
        "#tuplas \n",
        "bd=('127.0.0.1','root','toor','1345')\n",
        "print(f\"usuario de la bd es {bd[1]}\")\n",
        "# bd[1]='userl'\n",
        "print(bd[1:3])\n"
      ],
      "execution_count": null,
      "outputs": []
    },
    {
      "cell_type": "code",
      "metadata": {
        "id": "es3xdrg5wS2d"
      },
      "source": [
        "#diccionarios\n",
        "# declaracin de {}\n",
        "alumno = {'nombre':'Juan','edad':22,'carrera':'ICO'}\n",
        "print(alumno)\n",
        "print(alumno['edad'])\n",
        "alumno={\n",
        "    'nombre':'Juan',\n",
        "    'edad':22,\n",
        "    'carrera':'ICO',\n",
        "    'direccion':{'calle':'Bosque de africa',\n",
        "                 'numero':33,\n",
        "                 'delegacion':'Nezahualcoyotl',\n",
        "                 'estado':15,\n",
        "                 'nombre_esatado':'Estado de Mexico'\n",
        "                 }\n",
        "        }\n",
        "print(alumno['direccion'])\n",
        "print(alumno['direccion']['delegacion'])\n",
        "print(alumno['direccion']['delegacion'][3:7])\n",
        "print(alumno['direccion']['delegacion'][3:7].upper())\n",
        "alumno['edad'] = 35\n",
        "print(alumno)\n",
        "alumno['promedio']=9.9\n",
        "print(alumno)\n",
        "alumno['direccion']['cp'] = 17170\n",
        "print(alumno)\n",
        "alumno['materia']={'nombre':'CyP','calificacion':10}\n",
        "print(alumno)\n",
        "cliente={'id'}\n"
      ],
      "execution_count": null,
      "outputs": []
    }
  ]
}